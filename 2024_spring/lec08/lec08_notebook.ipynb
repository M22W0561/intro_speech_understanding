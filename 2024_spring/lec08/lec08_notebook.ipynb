{
 "cells": [
  {
   "cell_type": "markdown",
   "id": "6a424b44",
   "metadata": {},
   "source": [
    "# Speech Understanding \n",
    "# Lecture 8: Fourier Transform\n",
    "\n"
   ]
  },
  {
   "cell_type": "markdown",
   "id": "b3983e7c",
   "metadata": {},
   "source": [
    "### Mark Hasegawa-Johnson, KCGI"
   ]
  },
  {
   "cell_type": "markdown",
   "id": "ffa13a99",
   "metadata": {},
   "source": [
    "Last time we learned how to create pure tones.   This time, we will learn how to create and analyze chords, each composed of three pure tones together."
   ]
  },
  {
   "cell_type": "markdown",
   "id": "a638dcac",
   "metadata": {},
   "source": [
    "1. [The orthogonality principle](#section1)\n",
    "1. [Musical Chords](#section2)\n",
    "1. [The Discrete Cosine Transform (DCT)](#section3)\n",
    "1. [The Discrete Fourier Transform (DFT)](#section4)\n",
    "1. [homework](#homework)"
   ]
  },
  {
   "cell_type": "markdown",
   "id": "d07dde63",
   "metadata": {},
   "source": [
    "<a id=\"section1\"></a>"
   ]
  },
  {
   "cell_type": "markdown",
   "id": "1c5d4fcf",
   "metadata": {},
   "source": [
    "## 1 The orthogonality principle\n",
    "\n",
    "The **orthogonality principle** is:\n",
    "\n",
    "* The **average value** of\n",
    "* the **product** of\n",
    "* two **pure tones** with **different frequencies**\n",
    "* is **zero**.\n",
    "\n",
    "In equation form, the orthogonality principle says that, if $k\\ne m$ and they are both integers, then:\n",
    "\n",
    "$$0 = \\sum_{n=0}^{N-1} \\cos\\left(\\frac{2\\pi k n}{N}\\right)\\cos\\left(\\frac{2\\pi mn}{N}\\right)$$\n",
    "\n",
    "Let's see an example.  Let's set $k=3$, $m=4$, and $N=24$:"
   ]
  },
  {
   "cell_type": "code",
   "execution_count": 8,
   "id": "d61c6669",
   "metadata": {},
   "outputs": [
    {
     "ename": "ModuleNotFoundError",
     "evalue": "No module named 'matplotlib'",
     "output_type": "error",
     "traceback": [
      "\u001b[1;31m---------------------------------------------------------------------------\u001b[0m",
      "\u001b[1;31mModuleNotFoundError\u001b[0m                       Traceback (most recent call last)",
      "Cell \u001b[1;32mIn[8], line 2\u001b[0m\n\u001b[0;32m      1\u001b[0m \u001b[38;5;28;01mimport\u001b[39;00m \u001b[38;5;21;01mnumpy\u001b[39;00m \u001b[38;5;28;01mas\u001b[39;00m \u001b[38;5;21;01mnp\u001b[39;00m\n\u001b[1;32m----> 2\u001b[0m \u001b[38;5;28;01mimport\u001b[39;00m \u001b[38;5;21;01mmatplotlib\u001b[39;00m\u001b[38;5;21;01m.\u001b[39;00m\u001b[38;5;21;01mpyplot\u001b[39;00m \u001b[38;5;28;01mas\u001b[39;00m \u001b[38;5;21;01mplt\u001b[39;00m\n",
      "\u001b[1;31mModuleNotFoundError\u001b[0m: No module named 'matplotlib'"
     ]
    }
   ],
   "source": [
    "import numpy as np\n",
    "import matplotlib.pyplot as plt"
   ]
  },
  {
   "cell_type": "code",
   "execution_count": null,
   "id": "6a3178be",
   "metadata": {},
   "outputs": [],
   "source": [
    "k = 3\n",
    "m = 4\n",
    "N = 20\n",
    "n = np.arange(N)\n",
    "\n",
    "x = np.cos(2*np.pi*k*n/N)\n",
    "y = np.cos(2*np.pi*m*n/N)\n",
    "\n",
    "total = sum(x*y)\n",
    "print('The total of x*y is',total,'\\n---------------------------------------------')\n",
    "\n",
    "fig = plt.figure(figsize=(14,8),layout='tight')\n",
    "subfigs = fig.subplots(3,1)\n",
    "subfigs[0].stem(x)\n",
    "subfigs[0].set_title('cos(6πn/20)')\n",
    "subfigs[1].stem(y)\n",
    "subfigs[1].set_title('cos(8πn/20)')\n",
    "subfigs[2].stem(x*y)\n",
    "subfigs[2].set_title('cos(6πn/20)*cos(8πn/20) has a total value of %3.3f'%(total))"
   ]
  },
  {
   "cell_type": "markdown",
   "id": "710ed6a1",
   "metadata": {},
   "source": [
    "You might think: OK, but why is that interesting?\n",
    "\n",
    "The reason it's interesting is that there is **just one exception:** the case when $k=m$.\n",
    "\n",
    "That's obvious when you think about it, because $x[n]^2 > 0$ for any $x[n]\\ne 0$, so $\\sum_n x^2[n] > 0$ for any nonzero pure tone.  Let's see an example: "
   ]
  },
  {
   "cell_type": "code",
   "execution_count": 12,
   "id": "ebe265b3",
   "metadata": {},
   "outputs": [
    {
     "name": "stdout",
     "output_type": "stream",
     "text": [
      "The total of x*y is 9.999999999999998 \n",
      "---------------------------------------------\n"
     ]
    },
    {
     "ename": "NameError",
     "evalue": "name 'plt' is not defined",
     "output_type": "error",
     "traceback": [
      "\u001b[1;31m---------------------------------------------------------------------------\u001b[0m",
      "\u001b[1;31mNameError\u001b[0m                                 Traceback (most recent call last)",
      "Cell \u001b[1;32mIn[12], line 12\u001b[0m\n\u001b[0;32m      9\u001b[0m total \u001b[38;5;241m=\u001b[39m \u001b[38;5;28msum\u001b[39m(x\u001b[38;5;241m*\u001b[39my)\n\u001b[0;32m     10\u001b[0m \u001b[38;5;28mprint\u001b[39m(\u001b[38;5;124m'\u001b[39m\u001b[38;5;124mThe total of x*y is\u001b[39m\u001b[38;5;124m'\u001b[39m,total,\u001b[38;5;124m'\u001b[39m\u001b[38;5;130;01m\\n\u001b[39;00m\u001b[38;5;124m---------------------------------------------\u001b[39m\u001b[38;5;124m'\u001b[39m)\n\u001b[1;32m---> 12\u001b[0m fig \u001b[38;5;241m=\u001b[39m plt\u001b[38;5;241m.\u001b[39mfigure(figsize\u001b[38;5;241m=\u001b[39m(\u001b[38;5;241m14\u001b[39m,\u001b[38;5;241m8\u001b[39m),layout\u001b[38;5;241m=\u001b[39m\u001b[38;5;124m'\u001b[39m\u001b[38;5;124mtight\u001b[39m\u001b[38;5;124m'\u001b[39m)\n\u001b[0;32m     13\u001b[0m subfigs \u001b[38;5;241m=\u001b[39m fig\u001b[38;5;241m.\u001b[39msubplots(\u001b[38;5;241m3\u001b[39m,\u001b[38;5;241m1\u001b[39m)\n\u001b[0;32m     14\u001b[0m subfigs[\u001b[38;5;241m0\u001b[39m]\u001b[38;5;241m.\u001b[39mstem(x)\n",
      "\u001b[1;31mNameError\u001b[0m: name 'plt' is not defined"
     ]
    }
   ],
   "source": [
    "k = 3\n",
    "m = 3\n",
    "N = 20\n",
    "n = np.arange(N)\n",
    "\n",
    "x = np.cos(2*np.pi*k*n/N)\n",
    "y = np.cos(2*np.pi*m*n/N)\n",
    "\n",
    "total = sum(x*y)\n",
    "print('The total of x*y is',total,'\\n---------------------------------------------')\n",
    "\n",
    "fig = plt.figure(figsize=(14,8),layout='tight')\n",
    "subfigs = fig.subplots(3,1)\n",
    "subfigs[0].stem(x)\n",
    "subfigs[0].set_title('cos(6πn/20)')\n",
    "subfigs[1].stem(y)\n",
    "subfigs[1].set_title('cos(6πn/20)')\n",
    "subfigs[2].stem(x*y)\n",
    "subfigs[2].set_title('cos(6πn/20)*cos(6πn/20) has a total value of %3.3f'%(total))\n",
    "    "
   ]
  },
  {
   "cell_type": "markdown",
   "id": "8ac15d95",
   "metadata": {},
   "source": [
    "The general statement of the orthogonality principle, for cosines, is:\n",
    "\n",
    "$$\\sum_{n=0}^{N-1} \\cos\\left(\\frac{2\\pi k n}{N}\\right)\\cos\\left(\\frac{2\\pi m n}{N}\\right)\n",
    "=\\left\\{\\begin{array}{cc}N/2 & k=m~\\text{or}~k=N-m\\\\0&\\text{otherwise}\\end{array}\\right.$$\n",
    "\n",
    "The possibility that $k=N-m$ comes from aliasing."
   ]
  },
  {
   "cell_type": "markdown",
   "id": "cfd4fea5",
   "metadata": {},
   "source": [
    "<a id=\"section2\"></a>"
   ]
  },
  {
   "cell_type": "markdown",
   "id": "3158d57d",
   "metadata": {},
   "source": [
    "## 2. Musical Chords"
   ]
  },
  {
   "cell_type": "markdown",
   "id": "a8b201d7",
   "metadata": {},
   "source": [
    "A musical chord is a combination of pure tones that sound good together.  For example,\n",
    "\n",
    "### Major Chord\n",
    "\n",
    "A major chord is a root tone, a major third tone (4 semitones above root), and a major fifth tone (7 semitones above root), thus:\n",
    "\n",
    "$$x[n]=\\cos\\left(\\omega_0 n\\right) + \\cos\\left(G^4\\omega_0n\\right)+\\cos\\left(G^7\\omega_0n\\right)$$\n",
    "where $G$ is the semitone scaling constant,\n",
    "$$G=2^{1/12}$$\n",
    "\n",
    "### Minor Chord\n",
    "\n",
    "A minor chord is a root tone, a minor third tone (3 semitones above root), and a major fifth tone (7 semitones above root), thus:\n",
    "\n",
    "$$x[n]=\\cos\\left(\\omega_0 n\\right) + \\cos\\left(G^3\\omega_0n\\right)+\\cos\\left(G^7\\omega_0n\\right)$$\n",
    "\n",
    "\n",
    "Let's do an example by constructing A-major and A-minor chords.  Remember A440 has a frequency of $\\omega_0=\\frac{2\\pi 440}{F_s}$ radians/sample, thus"
   ]
  },
  {
   "cell_type": "code",
   "execution_count": 18,
   "id": "e32a47d3",
   "metadata": {},
   "outputs": [
    {
     "data": {
      "text/html": [
       "\n",
       "                <audio  controls=\"controls\" >\n",
       "                    <source src=\"data:audio/wav;base64,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\" type=\"audio/wav\" />\n",
       "                    Your browser does not support the audio element.\n",
       "                </audio>\n",
       "              "
      ],
      "text/plain": [
       "<IPython.lib.display.Audio object>"
      ]
     },
     "execution_count": 18,
     "metadata": {},
     "output_type": "execute_result"
    }
   ],
   "source": [
    "f0 = 440\n",
    "Fs = 8000\n",
    "omega0 = 2*np.pi*f0/Fs\n",
    "n = np.arange(2*Fs)\n",
    "G = np.power(2,1/12)\n",
    "\n",
    "major_chord = np.cos(omega0*n)+np.cos(np.power(G,4)*omega0*n)+np.cos(np.power(G,7)*omega0*n)\n",
    "import IPython.display\n",
    "IPython.display.Audio(data=major_chord, rate=Fs)"
   ]
  },
  {
   "cell_type": "code",
   "execution_count": 20,
   "id": "0e5bca55",
   "metadata": {},
   "outputs": [
    {
     "data": {
      "text/html": [
       "\n",
       "                <audio  controls=\"controls\" >\n",
       "                    <source src=\"data:audio/wav;base64,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\" type=\"audio/wav\" />\n",
       "                    Your browser does not support the audio element.\n",
       "                </audio>\n",
       "              "
      ],
      "text/plain": [
       "<IPython.lib.display.Audio object>"
      ]
     },
     "execution_count": 20,
     "metadata": {},
     "output_type": "execute_result"
    }
   ],
   "source": [
    "minor_chord = np.cos(omega0*n)+np.cos(np.power(G,3)*omega0*n)+np.cos(np.power(G,7)*omega0*n)\n",
    "IPython.display.Audio(data=minor_chord, rate=Fs)"
   ]
  },
  {
   "cell_type": "markdown",
   "id": "b91cb062",
   "metadata": {},
   "source": [
    "Suppose that you were given the sound file `minor_chord`, and you wanted to figure out what cosines were used to make it.  One thing you could try would be to plot about 1/20 of a second, so see what it looks like:"
   ]
  },
  {
   "cell_type": "code",
   "execution_count": 23,
   "id": "713415ea",
   "metadata": {},
   "outputs": [
    {
     "ename": "NameError",
     "evalue": "name 'plt' is not defined",
     "output_type": "error",
     "traceback": [
      "\u001b[1;31m---------------------------------------------------------------------------\u001b[0m",
      "\u001b[1;31mNameError\u001b[0m                                 Traceback (most recent call last)",
      "Cell \u001b[1;32mIn[23], line 3\u001b[0m\n\u001b[0;32m      1\u001b[0m N \u001b[38;5;241m=\u001b[39m \u001b[38;5;28mint\u001b[39m(Fs\u001b[38;5;241m/\u001b[39m\u001b[38;5;241m20\u001b[39m)\n\u001b[1;32m----> 3\u001b[0m fig \u001b[38;5;241m=\u001b[39m plt\u001b[38;5;241m.\u001b[39mfigure(figsize\u001b[38;5;241m=\u001b[39m(\u001b[38;5;241m14\u001b[39m,\u001b[38;5;241m4\u001b[39m),layout\u001b[38;5;241m=\u001b[39m\u001b[38;5;124m'\u001b[39m\u001b[38;5;124mtight\u001b[39m\u001b[38;5;124m'\u001b[39m)\n\u001b[0;32m      4\u001b[0m subfig \u001b[38;5;241m=\u001b[39m fig\u001b[38;5;241m.\u001b[39msubplots(\u001b[38;5;241m1\u001b[39m,\u001b[38;5;241m1\u001b[39m)\n\u001b[0;32m      5\u001b[0m subfig\u001b[38;5;241m.\u001b[39mplot(minor_chord[:N])\n",
      "\u001b[1;31mNameError\u001b[0m: name 'plt' is not defined"
     ]
    }
   ],
   "source": [
    "N = int(Fs/20)\n",
    "\n",
    "fig = plt.figure(figsize=(14,4),layout='tight')\n",
    "subfig = fig.subplots(1,1)\n",
    "subfig.plot(minor_chord[:N])"
   ]
  },
  {
   "cell_type": "markdown",
   "id": "a7e09655",
   "metadata": {},
   "source": [
    "Well, plotting it doesn't seem to help very much!\n",
    "\n",
    "Here's a better solution: in order to figure out which pure tones are part of this minor chord, we can use the **orthogonality principle**.\n"
   ]
  },
  {
   "cell_type": "markdown",
   "id": "4ac782b0",
   "metadata": {},
   "source": [
    "<a id=\"section3\"></a>"
   ]
  },
  {
   "cell_type": "markdown",
   "id": "6b99e4aa",
   "metadata": {},
   "source": [
    "## 3. The Discrete Cosine Transform (DCT)"
   ]
  },
  {
   "cell_type": "markdown",
   "id": "86ca2449",
   "metadata": {},
   "source": [
    "The DCT uses the orthogonality principle to find out which pure tones were used to make a chord.  Remember that the orthogonality principle for cosines is:\n",
    "\n",
    "$$\\sum_{n=0}^{N-1} \\cos\\left(\\frac{2\\pi k n}{N}\\right)\\cos\\left(\\frac{2\\pi m n}{N}\\right)\n",
    "=\\left\\{\\begin{array}{cc}N/2 & k=m~\\text{or}~k=N-m\\\\0&\\text{otherwise}\\end{array}\\right.$$\n",
    "\n",
    "Let's create a matrix $W$ whose $(k_1,n)^{\\text{th}}$ element is $w[k,n]=\\cos\\left(\\frac{2\\pi kn}{N}\\right)$, and a vector $x$ whose $n^{\\text{th}}$ element is $x[n]=\\cos\\left(\\frac{2\\pi mn}{N}\\right)$.  Then:\n",
    "\n",
    "$$\\sum_{n=0}^{N-1} w[k,n]x[n]\n",
    "=\\left\\{\\begin{array}{cc}N/2 & k=m~\\text{or}~k=N-m\\\\0&\\text{otherwise}\\end{array}\\right.$$\n",
    "\n",
    "Notice that the summation, there, is the formula for a matrix multiplication!  We can implement it as:\n",
    "$$X=\\left[\\begin{array}{c}X[0]\\\\\\vdots\\\\X[k]\\\\\\vdots\\\\X[N-1]\\end{array}\\right] =\n",
    "\\left[\\begin{array}{ccccc}w[0,0]&\\cdots&w[0,n]&\\cdots&w[0,N-1]\\\\\n",
    "\\vdots&\\ddots&\\vdots&\\ddots&\\vdots\\\\\n",
    "w[k,0]&\\cdots&w[k,n]&\\cdots&w[k,N-1]\\\\\n",
    "\\vdots&\\ddots&\\vdots&\\ddots&\\vdots\\\\\n",
    "w[N-1,0]&\\cdots&w[N-1,n]&\\cdots&w[N-1,N-1]\\end{array}\\right]\n",
    "\\left[\\begin{array}{c}x[0]\\\\\\vdots\\\\x[n]\\\\\\vdots\\\\x[N-1]\\end{array}\\right]=Wx$$\n",
    "\n",
    "And the result will be\n",
    "$$X[k]=\\left\\{\\begin{array}{cc} N/2 & k=m~\\text{or}~k=N-m\\\\0&\\mbox{otherwise}\\end{array}\\right.$$"
   ]
  },
  {
   "cell_type": "code",
   "execution_count": 29,
   "id": "d29ad45a",
   "metadata": {},
   "outputs": [
    {
     "ename": "NameError",
     "evalue": "name 'plt' is not defined",
     "output_type": "error",
     "traceback": [
      "\u001b[1;31m---------------------------------------------------------------------------\u001b[0m",
      "\u001b[1;31mNameError\u001b[0m                                 Traceback (most recent call last)",
      "Cell \u001b[1;32mIn[29], line 14\u001b[0m\n\u001b[0;32m     10\u001b[0m         W[k,n] \u001b[38;5;241m=\u001b[39m np\u001b[38;5;241m.\u001b[39mcos(\u001b[38;5;241m2\u001b[39m\u001b[38;5;241m*\u001b[39mnp\u001b[38;5;241m.\u001b[39mpi\u001b[38;5;241m*\u001b[39mk\u001b[38;5;241m*\u001b[39mn\u001b[38;5;241m/\u001b[39mN)\n\u001b[0;32m     12\u001b[0m X \u001b[38;5;241m=\u001b[39m np\u001b[38;5;241m.\u001b[39mmatmul(W,x)\n\u001b[1;32m---> 14\u001b[0m fig \u001b[38;5;241m=\u001b[39m plt\u001b[38;5;241m.\u001b[39mfigure(figsize\u001b[38;5;241m=\u001b[39m(\u001b[38;5;241m14\u001b[39m,\u001b[38;5;241m4\u001b[39m))\n\u001b[0;32m     15\u001b[0m subfig \u001b[38;5;241m=\u001b[39m fig\u001b[38;5;241m.\u001b[39msubplots(\u001b[38;5;241m1\u001b[39m,\u001b[38;5;241m1\u001b[39m)\n\u001b[0;32m     16\u001b[0m subfig\u001b[38;5;241m.\u001b[39mstem(X)\n",
      "\u001b[1;31mNameError\u001b[0m: name 'plt' is not defined"
     ]
    }
   ],
   "source": [
    "N = 20\n",
    "m = 4\n",
    "n = np.arange(N)\n",
    "\n",
    "x = np.cos(2*np.pi*m*n/N)\n",
    "\n",
    "W = np.zeros((N,N))\n",
    "for k in range(N):\n",
    "    for n in range(N):\n",
    "        W[k,n] = np.cos(2*np.pi*k*n/N)\n",
    "    \n",
    "X = np.matmul(W,x)\n",
    "\n",
    "fig = plt.figure(figsize=(14,4))\n",
    "subfig = fig.subplots(1,1)\n",
    "subfig.stem(X)\n",
    "subfig.set_title('DCT{cos(8πn/20)}=20/2=10 at k=4 and at k=20-4, DCT{cos(8πn/20)}=0 everywhere else')"
   ]
  },
  {
   "cell_type": "markdown",
   "id": "40b29785",
   "metadata": {},
   "source": [
    "We can use this to find out what pure tones are part of the minor chord!   Let's create a giant $W$ matrix, with 400 rows and 400 columns, and multiply it times the first 400 samples of `minor_chord`:"
   ]
  },
  {
   "cell_type": "code",
   "execution_count": 32,
   "id": "7f2c7d65",
   "metadata": {},
   "outputs": [
    {
     "ename": "NameError",
     "evalue": "name 'plt' is not defined",
     "output_type": "error",
     "traceback": [
      "\u001b[1;31m---------------------------------------------------------------------------\u001b[0m",
      "\u001b[1;31mNameError\u001b[0m                                 Traceback (most recent call last)",
      "Cell \u001b[1;32mIn[32], line 9\u001b[0m\n\u001b[0;32m      5\u001b[0m         W[k,n] \u001b[38;5;241m=\u001b[39m np\u001b[38;5;241m.\u001b[39mcos(\u001b[38;5;241m2\u001b[39m\u001b[38;5;241m*\u001b[39mnp\u001b[38;5;241m.\u001b[39mpi\u001b[38;5;241m*\u001b[39mk\u001b[38;5;241m*\u001b[39mn\u001b[38;5;241m/\u001b[39mN)\n\u001b[0;32m      7\u001b[0m X \u001b[38;5;241m=\u001b[39m np\u001b[38;5;241m.\u001b[39mmatmul(W,minor_chord[:N])\n\u001b[1;32m----> 9\u001b[0m fig\u001b[38;5;241m=\u001b[39mplt\u001b[38;5;241m.\u001b[39mfigure(figsize\u001b[38;5;241m=\u001b[39m(\u001b[38;5;241m14\u001b[39m,\u001b[38;5;241m4\u001b[39m))\n\u001b[0;32m     10\u001b[0m subfig\u001b[38;5;241m=\u001b[39mfig\u001b[38;5;241m.\u001b[39msubplots(\u001b[38;5;241m1\u001b[39m,\u001b[38;5;241m1\u001b[39m)\n\u001b[0;32m     11\u001b[0m subfig\u001b[38;5;241m.\u001b[39mstem(X)\n",
      "\u001b[1;31mNameError\u001b[0m: name 'plt' is not defined"
     ]
    }
   ],
   "source": [
    "N = 400\n",
    "W = np.zeros((N,N))\n",
    "for k in range(N):\n",
    "    for n in range(N):\n",
    "        W[k,n] = np.cos(2*np.pi*k*n/N)\n",
    "        \n",
    "X = np.matmul(W,minor_chord[:N])\n",
    "\n",
    "fig=plt.figure(figsize=(14,4))\n",
    "subfig=fig.subplots(1,1)\n",
    "subfig.stem(X)\n"
   ]
  },
  {
   "cell_type": "markdown",
   "id": "3fb8c86d",
   "metadata": {},
   "source": [
    "Let's ignore the aliased tones, and zoom in on the three peaks that correspond to the three notes of the chord:"
   ]
  },
  {
   "cell_type": "code",
   "execution_count": 35,
   "id": "48509c8b",
   "metadata": {},
   "outputs": [
    {
     "ename": "NameError",
     "evalue": "name 'plt' is not defined",
     "output_type": "error",
     "traceback": [
      "\u001b[1;31m---------------------------------------------------------------------------\u001b[0m",
      "\u001b[1;31mNameError\u001b[0m                                 Traceback (most recent call last)",
      "Cell \u001b[1;32mIn[35], line 1\u001b[0m\n\u001b[1;32m----> 1\u001b[0m fig\u001b[38;5;241m=\u001b[39mplt\u001b[38;5;241m.\u001b[39mfigure(figsize\u001b[38;5;241m=\u001b[39m(\u001b[38;5;241m14\u001b[39m,\u001b[38;5;241m4\u001b[39m))\n\u001b[0;32m      2\u001b[0m subfig\u001b[38;5;241m=\u001b[39mfig\u001b[38;5;241m.\u001b[39msubplots(\u001b[38;5;241m1\u001b[39m,\u001b[38;5;241m1\u001b[39m)\n\u001b[0;32m      3\u001b[0m subfig\u001b[38;5;241m.\u001b[39mstem(X)\n",
      "\u001b[1;31mNameError\u001b[0m: name 'plt' is not defined"
     ]
    }
   ],
   "source": [
    "fig=plt.figure(figsize=(14,4))\n",
    "subfig=fig.subplots(1,1)\n",
    "subfig.stem(X)\n",
    "subfig.set_xlim(0,50)"
   ]
  },
  {
   "cell_type": "markdown",
   "id": "c47d7e63",
   "metadata": {},
   "source": [
    "We can see that the three pure tones in this chord are at:\n",
    "\n",
    "* $k=22$\n",
    "* $k=25$\n",
    "* $k=33$\n",
    "\n",
    "But what frequencies are those?  Remember that the $k^{\\text{th}}$ row of the $W$ matrix is $\\cos(2\\pi kn/N)$.  We can convert back to frequencies if we remember that, for $\\cos(\\omega n)$,\n",
    "\n",
    "$$\\omega = \\frac{2\\pi f}{F_s}$$\n",
    "So let's set\n",
    "$$\\frac{2\\pi f}{F_s} = \\frac{2\\pi k}{N}$$\n",
    "... and solving, we get:\n",
    "$$f=\\left(\\frac{k}{N}\\right)F_s$$\n",
    "In other words, find the fraction $k/N$: $f$ is that fraction of $F_s$.  Let's use such an $f$ scale as the X-axis labels in our DCT plot:\n"
   ]
  },
  {
   "cell_type": "code",
   "execution_count": 38,
   "id": "34b90c6f",
   "metadata": {},
   "outputs": [
    {
     "ename": "NameError",
     "evalue": "name 'plt' is not defined",
     "output_type": "error",
     "traceback": [
      "\u001b[1;31m---------------------------------------------------------------------------\u001b[0m",
      "\u001b[1;31mNameError\u001b[0m                                 Traceback (most recent call last)",
      "Cell \u001b[1;32mIn[38], line 4\u001b[0m\n\u001b[0;32m      1\u001b[0m k \u001b[38;5;241m=\u001b[39m np\u001b[38;5;241m.\u001b[39marange(N)\n\u001b[0;32m      2\u001b[0m f \u001b[38;5;241m=\u001b[39m (k\u001b[38;5;241m/\u001b[39mN)\u001b[38;5;241m*\u001b[39mFs\n\u001b[1;32m----> 4\u001b[0m fig\u001b[38;5;241m=\u001b[39mplt\u001b[38;5;241m.\u001b[39mfigure(figsize\u001b[38;5;241m=\u001b[39m(\u001b[38;5;241m14\u001b[39m,\u001b[38;5;241m4\u001b[39m))\n\u001b[0;32m      5\u001b[0m subfig\u001b[38;5;241m=\u001b[39mfig\u001b[38;5;241m.\u001b[39msubplots(\u001b[38;5;241m1\u001b[39m,\u001b[38;5;241m1\u001b[39m)\n\u001b[0;32m      6\u001b[0m subfig\u001b[38;5;241m.\u001b[39mstem(f,X)\n",
      "\u001b[1;31mNameError\u001b[0m: name 'plt' is not defined"
     ]
    }
   ],
   "source": [
    "k = np.arange(N)\n",
    "f = (k/N)*Fs\n",
    "\n",
    "fig=plt.figure(figsize=(14,4))\n",
    "subfig=fig.subplots(1,1)\n",
    "subfig.stem(f,X)\n",
    "subfig.set_xlim(350,750)\n",
    "subfig.set_xlabel('Frequency f (in Hertz)')\n",
    "subfig.set_title('These three pure tones are an A-Minor Chord')"
   ]
  },
  {
   "cell_type": "markdown",
   "id": "f599382d",
   "metadata": {},
   "source": [
    "We can see that the three pure tones in an A-minor chord are:\n",
    "\n",
    "* $f=440$ -- the root A tone\n",
    "* $f=520$ -- the minor third (C)\n",
    "* $f=660$ -- the major fifth (E)"
   ]
  },
  {
   "cell_type": "markdown",
   "id": "0452afae",
   "metadata": {},
   "source": [
    "<a id=\"section4\"></a>"
   ]
  },
  {
   "cell_type": "markdown",
   "id": "fca1e634",
   "metadata": {},
   "source": [
    "## 4.  Discrete Fourier Transform"
   ]
  },
  {
   "cell_type": "markdown",
   "id": "aeb3a1dd",
   "metadata": {},
   "source": [
    "What happens if the minor third is made of **sines** instead of **cosines**?  Let's find out:"
   ]
  },
  {
   "cell_type": "code",
   "execution_count": 44,
   "id": "56e91dfb",
   "metadata": {},
   "outputs": [
    {
     "data": {
      "text/html": [
       "\n",
       "                <audio  controls=\"controls\" >\n",
       "                    <source src=\"data:audio/wav;base64,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\" type=\"audio/wav\" />\n",
       "                    Your browser does not support the audio element.\n",
       "                </audio>\n",
       "              "
      ],
      "text/plain": [
       "<IPython.lib.display.Audio object>"
      ]
     },
     "execution_count": 44,
     "metadata": {},
     "output_type": "execute_result"
    }
   ],
   "source": [
    "f0 = 440\n",
    "Fs = 8000\n",
    "omega0 = 2*np.pi*f0/Fs\n",
    "n = np.arange(2*Fs)\n",
    "G = np.power(2,1/12)\n",
    "\n",
    "sine_minor_chord = np.sin(omega0*n)+np.sin(np.power(G,3)*omega0*n)+np.sin(np.power(G,7)*omega0*n)\n",
    "IPython.display.Audio(data=minor_chord, rate=Fs)"
   ]
  },
  {
   "cell_type": "markdown",
   "id": "5f175bb2",
   "metadata": {},
   "source": [
    "It sounds **exactly the same,** because **the human ear can't hear phase.**\n",
    "\n",
    "But will a $W$ matrix composed of cosines be able to analyze this?  Let's try it:"
   ]
  },
  {
   "cell_type": "code",
   "execution_count": 47,
   "id": "0c864112",
   "metadata": {},
   "outputs": [
    {
     "ename": "NameError",
     "evalue": "name 'plt' is not defined",
     "output_type": "error",
     "traceback": [
      "\u001b[1;31m---------------------------------------------------------------------------\u001b[0m",
      "\u001b[1;31mNameError\u001b[0m                                 Traceback (most recent call last)",
      "Cell \u001b[1;32mIn[47], line 13\u001b[0m\n\u001b[0;32m     10\u001b[0m k \u001b[38;5;241m=\u001b[39m np\u001b[38;5;241m.\u001b[39marange(N)\n\u001b[0;32m     11\u001b[0m f \u001b[38;5;241m=\u001b[39m (k\u001b[38;5;241m/\u001b[39mN)\u001b[38;5;241m*\u001b[39mFs\n\u001b[1;32m---> 13\u001b[0m fig\u001b[38;5;241m=\u001b[39mplt\u001b[38;5;241m.\u001b[39mfigure(figsize\u001b[38;5;241m=\u001b[39m(\u001b[38;5;241m14\u001b[39m,\u001b[38;5;241m4\u001b[39m))\n\u001b[0;32m     14\u001b[0m subfig\u001b[38;5;241m=\u001b[39mfig\u001b[38;5;241m.\u001b[39msubplots(\u001b[38;5;241m1\u001b[39m,\u001b[38;5;241m1\u001b[39m)\n\u001b[0;32m     15\u001b[0m subfig\u001b[38;5;241m.\u001b[39mstem(f,X_cosines,\u001b[38;5;124m'\u001b[39m\u001b[38;5;124mb\u001b[39m\u001b[38;5;124m'\u001b[39m)\n",
      "\u001b[1;31mNameError\u001b[0m: name 'plt' is not defined"
     ]
    }
   ],
   "source": [
    "N = 400\n",
    "W = np.zeros((N,N))\n",
    "for k in range(N):\n",
    "    for n in range(N):\n",
    "        W[k,n] = np.cos(2*np.pi*k*n/N)\n",
    "\n",
    "X_cosines = np.matmul(W,minor_chord[:N])\n",
    "X_sines = np.matmul(W,sine_minor_chord[:N])\n",
    "\n",
    "k = np.arange(N)\n",
    "f = (k/N)*Fs\n",
    "\n",
    "fig=plt.figure(figsize=(14,4))\n",
    "subfig=fig.subplots(1,1)\n",
    "subfig.stem(f,X_cosines,'b')\n",
    "subfig.stem(f,X_sines,'r')\n",
    "subfig.set_xlim(350,750)\n",
    "subfig.set_title('Cosine or Sine detected by Cosines',fontsize=24)\n",
    "subfig.legend(['cosine minor chord','sine minor chord'],fontsize=18)"
   ]
  },
  {
   "cell_type": "markdown",
   "id": "3e013ddc",
   "metadata": {},
   "source": [
    "Well, that didn't work well.\n",
    "* The tone at $f=520$ was only halfway detected.\n",
    "* The tone at $f=440$ wasn't detected at all.\n",
    "\n",
    "The problem, of course, is that, to **detect a sine wave,** you need to **use a sine wave**."
   ]
  },
  {
   "cell_type": "code",
   "execution_count": 50,
   "id": "e8a1fba2",
   "metadata": {},
   "outputs": [
    {
     "ename": "NameError",
     "evalue": "name 'plt' is not defined",
     "output_type": "error",
     "traceback": [
      "\u001b[1;31m---------------------------------------------------------------------------\u001b[0m",
      "\u001b[1;31mNameError\u001b[0m                                 Traceback (most recent call last)",
      "Cell \u001b[1;32mIn[50], line 13\u001b[0m\n\u001b[0;32m     10\u001b[0m k \u001b[38;5;241m=\u001b[39m np\u001b[38;5;241m.\u001b[39marange(N)\n\u001b[0;32m     11\u001b[0m f \u001b[38;5;241m=\u001b[39m (k\u001b[38;5;241m/\u001b[39mN)\u001b[38;5;241m*\u001b[39mFs\n\u001b[1;32m---> 13\u001b[0m fig\u001b[38;5;241m=\u001b[39mplt\u001b[38;5;241m.\u001b[39mfigure(figsize\u001b[38;5;241m=\u001b[39m(\u001b[38;5;241m14\u001b[39m,\u001b[38;5;241m4\u001b[39m))\n\u001b[0;32m     14\u001b[0m subfig\u001b[38;5;241m=\u001b[39mfig\u001b[38;5;241m.\u001b[39msubplots(\u001b[38;5;241m1\u001b[39m,\u001b[38;5;241m1\u001b[39m)\n\u001b[0;32m     15\u001b[0m subfig\u001b[38;5;241m.\u001b[39mstem(f,X_cosines,\u001b[38;5;124m'\u001b[39m\u001b[38;5;124mb\u001b[39m\u001b[38;5;124m'\u001b[39m)\n",
      "\u001b[1;31mNameError\u001b[0m: name 'plt' is not defined"
     ]
    }
   ],
   "source": [
    "N = 400\n",
    "W = np.zeros((N,N))\n",
    "for k in range(N):\n",
    "    for n in range(N):\n",
    "        W[k,n] = np.sin(2*np.pi*k*n/N)   ##### sine instead of cosine\n",
    "        \n",
    "X_cosines = np.matmul(W,minor_chord[:N])\n",
    "X_sines = np.matmul(W,sine_minor_chord[:N])\n",
    "\n",
    "k = np.arange(N)\n",
    "f = (k/N)*Fs\n",
    "\n",
    "fig=plt.figure(figsize=(14,4))\n",
    "subfig=fig.subplots(1,1)\n",
    "subfig.stem(f,X_cosines,'b')\n",
    "subfig.stem(f,X_sines,'r')\n",
    "subfig.set_xlim(350,750)\n",
    "subfig.set_title('Cosine or Sine detected by Sines',fontsize=24)\n",
    "subfig.legend(['cosine minor chord','sine minor chord'],fontsize=18)"
   ]
  },
  {
   "cell_type": "markdown",
   "id": "c09b403f",
   "metadata": {},
   "source": [
    "So we know that \n",
    "* If $W$ is made of cosines, then it can analyze a minor chord made of cosines\n",
    "* If $W$ is made of sines, then it can analyze a minor chord made of sines\n",
    "\n",
    "How can we get both?  Here's the trick: we can use **complex numbers**!  Define imaginary numbers using\n",
    "$$j=\\sqrt{-1}$$\n",
    "Then set the matrix $W$ to have elements like this:\n",
    "$$w[k,n]=\\cos\\left(\\frac{2\\pi kn}{N}\\right)-j\\sin\\left(\\frac{2\\pi kn}{N}\\right)$$\n",
    "\n",
    "Now, if we compute\n",
    "$$X[k] = \\sum_{n=0}^{N-1} w[k,n] x[n]$$\n",
    "we will find that\n",
    "$$X[k]=\\left\\{\\begin{array}{ll}\n",
    "N/2 & x[n]=\\cos(2\\pi kn/N)\\\\\n",
    "jN/2 & x[n]=\\sin(2\\pi kn/N)\\\\\n",
    "0 & \\mbox{otherwise}\\end{array}\\right.$$\n",
    "\n",
    "So we can detect both **cosines and sines** by computing $|X[k]|$ (that means \"the absolute value of $X[k]$\", and it is computed as:\n",
    "\n",
    "$$|X[k]|=\\sqrt{\\text{real}\\left\\{X[k]\\right\\}^2+\\text{imaginary}\\left\\{X[k]\\right\\}^2}$$\n",
    "or we can use the numpy function `np.abs(X)`."
   ]
  },
  {
   "cell_type": "code",
   "execution_count": 53,
   "id": "f3c687d2",
   "metadata": {},
   "outputs": [
    {
     "ename": "NameError",
     "evalue": "name 'plt' is not defined",
     "output_type": "error",
     "traceback": [
      "\u001b[1;31m---------------------------------------------------------------------------\u001b[0m",
      "\u001b[1;31mNameError\u001b[0m                                 Traceback (most recent call last)",
      "Cell \u001b[1;32mIn[53], line 15\u001b[0m\n\u001b[0;32m     12\u001b[0m k \u001b[38;5;241m=\u001b[39m np\u001b[38;5;241m.\u001b[39marange(N)\n\u001b[0;32m     13\u001b[0m f \u001b[38;5;241m=\u001b[39m (k\u001b[38;5;241m/\u001b[39mN)\u001b[38;5;241m*\u001b[39mFs\n\u001b[1;32m---> 15\u001b[0m fig\u001b[38;5;241m=\u001b[39mplt\u001b[38;5;241m.\u001b[39mfigure(figsize\u001b[38;5;241m=\u001b[39m(\u001b[38;5;241m14\u001b[39m,\u001b[38;5;241m6\u001b[39m), layout\u001b[38;5;241m=\u001b[39m\u001b[38;5;124m'\u001b[39m\u001b[38;5;124mtight\u001b[39m\u001b[38;5;124m'\u001b[39m)\n\u001b[0;32m     16\u001b[0m subfig\u001b[38;5;241m=\u001b[39mfig\u001b[38;5;241m.\u001b[39msubplots(\u001b[38;5;241m2\u001b[39m,\u001b[38;5;241m1\u001b[39m)\n\u001b[0;32m     17\u001b[0m subfig[\u001b[38;5;241m0\u001b[39m]\u001b[38;5;241m.\u001b[39mstem(f,np\u001b[38;5;241m.\u001b[39mabs(X_cosines),\u001b[38;5;124m'\u001b[39m\u001b[38;5;124mb\u001b[39m\u001b[38;5;124m'\u001b[39m)  \u001b[38;5;66;03m## notice: np.abs takes absolute value\u001b[39;00m\n",
      "\u001b[1;31mNameError\u001b[0m: name 'plt' is not defined"
     ]
    }
   ],
   "source": [
    "j = 0+1j  ### This is how you write the imaginary number \"j\" in numpy\n",
    " \n",
    "N = 400\n",
    "W = np.zeros((N,N), dtype='complex')   # We have to specify that W is complex, too!!\n",
    "for k in range(N):\n",
    "    for n in range(N):\n",
    "        W[k,n] = np.cos(2*np.pi*k*n/N) - j*np.sin(2*np.pi*k*n/N)   ##### cosine - j * sine\n",
    "        \n",
    "X_cosines = np.matmul(W,minor_chord[:N])\n",
    "X_sines = np.matmul(W,sine_minor_chord[:N])\n",
    "\n",
    "k = np.arange(N)\n",
    "f = (k/N)*Fs\n",
    "\n",
    "fig=plt.figure(figsize=(14,6), layout='tight')\n",
    "subfig=fig.subplots(2,1)\n",
    "subfig[0].stem(f,np.abs(X_cosines),'b')  ## notice: np.abs takes absolute value\n",
    "subfig[0].set_title('Cosines detected by the Discrete Fourier Transform',fontsize=18)\n",
    "subfig[0].set_xlim(350,750)\n",
    "subfig[1].stem(f,np.abs(X_sines),'r')   ## notice: np.abs takes absolute value\n",
    "subfig[1].set_title('Sines detected by the Discrete Fourier Transform',fontsize=18)\n",
    "subfig[1].set_xlim(350,750)\n"
   ]
  },
  {
   "cell_type": "markdown",
   "id": "b27d42f6",
   "metadata": {},
   "source": [
    "This kind of frequency analysis is the basis of all audio analysis.  It's so important that numpy provides a special function for it: `np.fft.fft` (fft means **fast Fourier transform**)."
   ]
  },
  {
   "cell_type": "code",
   "execution_count": 55,
   "id": "26ef1371",
   "metadata": {},
   "outputs": [
    {
     "ename": "NameError",
     "evalue": "name 'plt' is not defined",
     "output_type": "error",
     "traceback": [
      "\u001b[1;31m---------------------------------------------------------------------------\u001b[0m",
      "\u001b[1;31mNameError\u001b[0m                                 Traceback (most recent call last)",
      "Cell \u001b[1;32mIn[55], line 7\u001b[0m\n\u001b[0;32m      4\u001b[0m k \u001b[38;5;241m=\u001b[39m np\u001b[38;5;241m.\u001b[39marange(N)\n\u001b[0;32m      5\u001b[0m f \u001b[38;5;241m=\u001b[39m (k\u001b[38;5;241m/\u001b[39mN)\u001b[38;5;241m*\u001b[39mFs\n\u001b[1;32m----> 7\u001b[0m fig\u001b[38;5;241m=\u001b[39mplt\u001b[38;5;241m.\u001b[39mfigure(figsize\u001b[38;5;241m=\u001b[39m(\u001b[38;5;241m14\u001b[39m,\u001b[38;5;241m6\u001b[39m), layout\u001b[38;5;241m=\u001b[39m\u001b[38;5;124m'\u001b[39m\u001b[38;5;124mtight\u001b[39m\u001b[38;5;124m'\u001b[39m)\n\u001b[0;32m      8\u001b[0m subfig\u001b[38;5;241m=\u001b[39mfig\u001b[38;5;241m.\u001b[39msubplots(\u001b[38;5;241m2\u001b[39m,\u001b[38;5;241m1\u001b[39m)\n\u001b[0;32m      9\u001b[0m subfig[\u001b[38;5;241m0\u001b[39m]\u001b[38;5;241m.\u001b[39mstem(f,np\u001b[38;5;241m.\u001b[39mabs(X_cosines),\u001b[38;5;124m'\u001b[39m\u001b[38;5;124mb\u001b[39m\u001b[38;5;124m'\u001b[39m)  \u001b[38;5;66;03m## notice: np.abs takes absolute value\u001b[39;00m\n",
      "\u001b[1;31mNameError\u001b[0m: name 'plt' is not defined"
     ]
    }
   ],
   "source": [
    "        \n",
    "X_cosines = np.fft.fft(minor_chord[:N])\n",
    "X_sines = np.fft.fft(sine_minor_chord[:N])\n",
    "\n",
    "k = np.arange(N)\n",
    "f = (k/N)*Fs\n",
    "\n",
    "fig=plt.figure(figsize=(14,6), layout='tight')\n",
    "subfig=fig.subplots(2,1)\n",
    "subfig[0].stem(f,np.abs(X_cosines),'b')  ## notice: np.abs takes absolute value\n",
    "subfig[0].set_title('Cosines detected by the Fast Fourier Transform',fontsize=18)\n",
    "subfig[0].set_xlim(350,750)\n",
    "subfig[1].stem(f,np.abs(X_sines),'r')   ## notice: np.abs takes absolute value\n",
    "subfig[1].set_title('Sines detected by the Fast Fourier Transform',fontsize=18)\n",
    "subfig[1].set_xlim(350,750)\n"
   ]
  },
  {
   "cell_type": "markdown",
   "id": "8ad9ad00",
   "metadata": {},
   "source": [
    "<a id=\"homework\"></a>"
   ]
  },
  {
   "cell_type": "markdown",
   "id": "4e6b32d4",
   "metadata": {},
   "source": [
    "## Homework 8"
   ]
  },
  {
   "cell_type": "markdown",
   "id": "7a9eeaa5",
   "metadata": {},
   "source": [
    "The homework this week has just one function: `W = homework8.dft_matrix(N)`.   Given a scalar integer $N$, this function should return the DFT transform matrix $W$ whose $(k,n)^{\\text{th}}$ element is given by \n",
    "\n",
    "$$w[k,n] = \\cos\\left(\\frac{2\\pi kn}{N}\\right) - j\\sin\\left(\\frac{2\\pi kn}{N}\\right)$$"
   ]
  },
  {
   "cell_type": "code",
   "execution_count": 60,
   "id": "c1361dec",
   "metadata": {},
   "outputs": [
    {
     "name": "stdout",
     "output_type": "stream",
     "text": [
      "Help on function dft_matrix in module homework8:\n",
      "\n",
      "dft_matrix(N)\n",
      "    Create a DFT transform matrix, W, of size N.\n",
      "\n",
      "    @param:\n",
      "    N (scalar): number of columns in the transform matrix\n",
      "\n",
      "    @result:\n",
      "    W (NxN array): a matrix of dtype='complex' whose (k,n)^th element is:\n",
      "           W[k,n] = cos(2*np.pi*k*n/N) - j*sin(2*np.pi*k*n/N)\n",
      "\n"
     ]
    }
   ],
   "source": [
    "import homework8, importlib\n",
    "importlib.reload(homework8)\n",
    "help(homework8.dft_matrix)"
   ]
  },
  {
   "cell_type": "markdown",
   "id": "0da0f3b8",
   "metadata": {},
   "source": [
    "You can test your code using a simple cosine, with an arbitrary phase.  For example,"
   ]
  },
  {
   "cell_type": "code",
   "execution_count": 63,
   "id": "1d13dc5f",
   "metadata": {},
   "outputs": [
    {
     "ename": "NameError",
     "evalue": "name 'plt' is not defined",
     "output_type": "error",
     "traceback": [
      "\u001b[1;31m---------------------------------------------------------------------------\u001b[0m",
      "\u001b[1;31mNameError\u001b[0m                                 Traceback (most recent call last)",
      "Cell \u001b[1;32mIn[63], line 4\u001b[0m\n\u001b[0;32m      2\u001b[0m n \u001b[38;5;241m=\u001b[39m np\u001b[38;5;241m.\u001b[39marange(N)\n\u001b[0;32m      3\u001b[0m x \u001b[38;5;241m=\u001b[39m np\u001b[38;5;241m.\u001b[39mcos(\u001b[38;5;241m2\u001b[39m\u001b[38;5;241m*\u001b[39mnp\u001b[38;5;241m.\u001b[39mpi\u001b[38;5;241m*\u001b[39m\u001b[38;5;241m3\u001b[39m\u001b[38;5;241m*\u001b[39mn\u001b[38;5;241m/\u001b[39mN \u001b[38;5;241m+\u001b[39m np\u001b[38;5;241m.\u001b[39mpi\u001b[38;5;241m/\u001b[39m\u001b[38;5;241m4\u001b[39m)\n\u001b[1;32m----> 4\u001b[0m fig \u001b[38;5;241m=\u001b[39m plt\u001b[38;5;241m.\u001b[39mfigure(figsize\u001b[38;5;241m=\u001b[39m(\u001b[38;5;241m14\u001b[39m,\u001b[38;5;241m4\u001b[39m))\n\u001b[0;32m      5\u001b[0m subfig \u001b[38;5;241m=\u001b[39m fig\u001b[38;5;241m.\u001b[39msubplots(\u001b[38;5;241m1\u001b[39m,\u001b[38;5;241m1\u001b[39m)\n\u001b[0;32m      6\u001b[0m subfig\u001b[38;5;241m.\u001b[39mstem(n,x)\n",
      "\u001b[1;31mNameError\u001b[0m: name 'plt' is not defined"
     ]
    }
   ],
   "source": [
    "N = 30\n",
    "n = np.arange(N)\n",
    "x = np.cos(2*np.pi*3*n/N + np.pi/4)\n",
    "fig = plt.figure(figsize=(14,4))\n",
    "subfig = fig.subplots(1,1)\n",
    "subfig.stem(n,x)\n",
    "subfig.set_title('cos(6 pi n/30+pi/4)')"
   ]
  },
  {
   "cell_type": "markdown",
   "id": "d8a2ce2e",
   "metadata": {},
   "source": [
    "When your function `homework8.dft_matrix` works correctly, the following two plots should be identical:"
   ]
  },
  {
   "cell_type": "code",
   "execution_count": 66,
   "id": "dbd444dd",
   "metadata": {},
   "outputs": [
    {
     "name": "stdout",
     "output_type": "stream",
     "text": [
      "True\n"
     ]
    },
    {
     "ename": "NameError",
     "evalue": "name 'plt' is not defined",
     "output_type": "error",
     "traceback": [
      "\u001b[1;31m---------------------------------------------------------------------------\u001b[0m",
      "\u001b[1;31mNameError\u001b[0m                                 Traceback (most recent call last)",
      "Cell \u001b[1;32mIn[66], line 6\u001b[0m\n\u001b[0;32m      3\u001b[0m W \u001b[38;5;241m=\u001b[39m homework8\u001b[38;5;241m.\u001b[39mdft_matrix(N)\n\u001b[0;32m      4\u001b[0m \u001b[38;5;28mprint\u001b[39m(W\u001b[38;5;241m.\u001b[39mdtype \u001b[38;5;241m==\u001b[39m \u001b[38;5;28mcomplex\u001b[39m)\n\u001b[1;32m----> 6\u001b[0m fig \u001b[38;5;241m=\u001b[39m plt\u001b[38;5;241m.\u001b[39mfigure(figsize\u001b[38;5;241m=\u001b[39m(\u001b[38;5;241m14\u001b[39m,\u001b[38;5;241m6\u001b[39m),layout\u001b[38;5;241m=\u001b[39m\u001b[38;5;124m'\u001b[39m\u001b[38;5;124mtight\u001b[39m\u001b[38;5;124m'\u001b[39m)\n\u001b[0;32m      7\u001b[0m subfig \u001b[38;5;241m=\u001b[39m fig\u001b[38;5;241m.\u001b[39msubplots(\u001b[38;5;241m2\u001b[39m,\u001b[38;5;241m1\u001b[39m)\n\u001b[0;32m      9\u001b[0m subfig[\u001b[38;5;241m0\u001b[39m]\u001b[38;5;241m.\u001b[39mstem(np\u001b[38;5;241m.\u001b[39mabs(np\u001b[38;5;241m.\u001b[39mfft\u001b[38;5;241m.\u001b[39mfft(x)))\n",
      "\u001b[1;31mNameError\u001b[0m: name 'plt' is not defined"
     ]
    }
   ],
   "source": [
    "import homework8, importlib\n",
    "importlib.reload(homework8)\n",
    "W = homework8.dft_matrix(N)\n",
    "print(W.dtype == complex)\n",
    "\n",
    "fig = plt.figure(figsize=(14,6),layout='tight')\n",
    "subfig = fig.subplots(2,1)\n",
    "\n",
    "subfig[0].stem(np.abs(np.fft.fft(x)))\n",
    "subfig[0].set_title('Fourier transform of cos(6 pi n/30+pi/4) computed with np.fft.fft',fontsize=24)\n",
    "\n",
    "subfig[1].stem(np.abs(W@x))\n",
    "subfig[1].set_title('Fourier transform of cos(6 pi n/30+pi/4) computed with homework6.dft_matrix',fontsize=24)"
   ]
  },
  {
   "cell_type": "markdown",
   "id": "8513e42f",
   "metadata": {},
   "source": [
    "### Receiving your grade\n",
    "\n",
    "In order to receive a grade for your homework, you need to:\n",
    "\n",
    "1. Run the following code block on your machine.  The result may list some errors, and then in the very last line, it will show a score.  That score (between 0% and 100%) is the grade you have earned so far.  If you want to earn a higher grade, please continue editing `homework3.py`, and then run this code block again.\n",
    "1. When you are happy with your score (e.g., when it reaches 100%), choose `File` $\\Rightarrow$ `Save and Checkpoint`.  Then use `GitHub Desktop` to commit and push your changes.\n",
    "1. Make sure that the 100% shows on your github repo on github.com.  If it doesn't, you will not receive credit."
   ]
  },
  {
   "cell_type": "code",
   "execution_count": 76,
   "id": "6e54a352",
   "metadata": {},
   "outputs": [
    {
     "name": "stderr",
     "output_type": "stream",
     "text": [
      "....\n",
      "----------------------------------------------------------------------\n",
      "Ran 4 tests in 0.011s\n",
      "\n",
      "OK\n"
     ]
    },
    {
     "name": "stdout",
     "output_type": "stream",
     "text": [
      "4 successes out of 4 tests run\n",
      "Score: 100%\n"
     ]
    },
    {
     "data": {
      "text/plain": [
       "<module 'grade' from 'C:\\\\Users\\\\邹\\\\Documents\\\\GitHub\\\\intro_speech_understanding\\\\2024_spring\\\\lec08\\\\grade.py'>"
      ]
     },
     "execution_count": 76,
     "metadata": {},
     "output_type": "execute_result"
    }
   ],
   "source": [
    "import importlib, grade\n",
    "importlib.reload(grade)"
   ]
  }
 ],
 "metadata": {
  "kernelspec": {
   "display_name": "Python 3 (ipykernel)",
   "language": "python",
   "name": "python3"
  },
  "language_info": {
   "codemirror_mode": {
    "name": "ipython",
    "version": 3
   },
   "file_extension": ".py",
   "mimetype": "text/x-python",
   "name": "python",
   "nbconvert_exporter": "python",
   "pygments_lexer": "ipython3",
   "version": "3.12.4"
  }
 },
 "nbformat": 4,
 "nbformat_minor": 5
}
